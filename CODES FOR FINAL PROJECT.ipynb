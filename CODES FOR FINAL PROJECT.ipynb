{
 "cells": [
  {
   "cell_type": "markdown",
   "metadata": {},
   "source": [
    "## DATA CLEANING\n"
   ]
  },
  {
   "cell_type": "code",
   "execution_count": null,
   "metadata": {},
   "outputs": [],
   "source": [
    "import pandas as pd\n",
    "\n",
    "# Load dataset\n",
    "data = pd.read_csv('B.csv')\n",
    "\n",
    "# Handling missing values\n",
    "data.fillna(method='ffill', inplace=True)\n",
    "\n",
    "# Standardize date format\n",
    "data['Date'] = pd.to_datetime(data['Date'])\n",
    "\n",
    "# Check data structure\n",
    "print(data.info())"
   ]
  },
  {
   "cell_type": "markdown",
   "metadata": {},
   "source": [
    "## Correlation Heatmap"
   ]
  },
  {
   "cell_type": "code",
   "execution_count": null,
   "metadata": {},
   "outputs": [],
   "source": [
    "import seaborn as sns\n",
    "import matplotlib.pyplot as plt\n",
    "\n",
    "# Correlation matrix\n",
    "plt.figure(figsize=(10, 8))\n",
    "sns.heatmap(data.corr(), annot=True, cmap='coolwarm', fmt='.2f', square=True)\n",
    "plt.title('Correlation Heatmap')\n",
    "plt.show()"
   ]
  },
  {
   "cell_type": "markdown",
   "metadata": {},
   "source": [
    "## ALL RELEVANT GRAPHS"
   ]
  },
  {
   "cell_type": "code",
   "execution_count": null,
   "metadata": {},
   "outputs": [],
   "source": [
    "# Time Series Plot for HPI, CPI, and GDHI\n",
    "plt.figure(figsize=(12, 6))\n",
    "plt.plot(data['Date'], data['HPI'], label='HPI', marker='o')\n",
    "plt.plot(data['Date'], data['CPI'], label='CPI', marker='x')\n",
    "plt.plot(data['Date'], data['GDHI per Head'], label='GDHI per Head', marker='s')\n",
    "plt.xlabel('Date')\n",
    "plt.ylabel('Values')\n",
    "plt.title('Trends Over Time')\n",
    "plt.legend()\n",
    "plt.grid()\n",
    "plt.show()\n",
    "\n",
    "# Separate Graphs for HPI vs Independent Variables\n",
    "independent_variables = ['CPI', 'GDHI per Head', '95% LTV Rate', '90% LTV Rate', '75% LTV Rate', '60% LTV Rate', '85% LTV Rate']\n",
    "for variable in independent_variables:\n",
    "    plt.figure(figsize=(8, 6))\n",
    "    sns.lineplot(x=data['Date'], y=data['HPI'], color = 'blue', errorbar = None)\n",
    "    sns.lineplot(x=data['Date'], y=data[variable], color = 'red', markers = '--', errorbar = None)\n",
    "    plt.title(f'HPI vs {variable}')\n",
    "    plt.xlabel(variable)\n",
    "    plt.ylabel('HPI')\n",
    "    plt.grid()\n",
    "    plt.show()\n"
   ]
  },
  {
   "cell_type": "markdown",
   "metadata": {},
   "source": [
    "## Time Series Line Plot"
   ]
  },
  {
   "cell_type": "code",
   "execution_count": null,
   "metadata": {},
   "outputs": [],
   "source": [
    "# Line plot for trends\n",
    "plt.figure(figsize=(12, 6))\n",
    "plt.plot(data['Date'], data['HPI'], label='HPI', marker='o')\n",
    "plt.plot(data['Date'], data['CPI'], label='CPI', linestyle='--')\n",
    "plt.plot(data['Date'], data['GDHI per Head'], label='GDHI per Head', linestyle='-.')\n",
    "plt.xlabel('Year')\n",
    "plt.ylabel('Values')\n",
    "plt.title('HPI, CPI, and GDHI Trends (2015-2019)')\n",
    "plt.legend()\n",
    "plt.grid()\n",
    "plt.show()"
   ]
  },
  {
   "cell_type": "markdown",
   "metadata": {},
   "source": [
    "## Pair Plot"
   ]
  },
  {
   "cell_type": "code",
   "execution_count": null,
   "metadata": {},
   "outputs": [],
   "source": [
    "sns.pairplot(data[['HPI', 'CPI', 'GDHI per Head', '95% LTV Rate', '90% LTV Rate']])\n",
    "plt.suptitle('Pair Plot of Key Variables', y=1.02)\n",
    "plt.show()"
   ]
  },
  {
   "cell_type": "markdown",
   "metadata": {},
   "source": [
    "## Scatter Plot with Regression Line"
   ]
  },
  {
   "cell_type": "code",
   "execution_count": null,
   "metadata": {},
   "outputs": [],
   "source": [
    "from scipy.stats import linregress\n",
    "\n",
    "# Scatter plot with regression line\n",
    "plt.figure(figsize=(8, 6))\n",
    "sns.regplot(x=data['CPI'], y=data['HPI'])\n",
    "plt.title('HPI vs CPI')\n",
    "plt.xlabel('CPI')\n",
    "plt.ylabel('HPI')\n",
    "plt.grid()\n",
    "plt.show()\n"
   ]
  },
  {
   "cell_type": "markdown",
   "metadata": {},
   "source": [
    "## Saving Cleaned Dataset"
   ]
  },
  {
   "cell_type": "code",
   "execution_count": null,
   "metadata": {},
   "outputs": [],
   "source": [
    "# Save cleaned and processed dataset\n",
    "data.to_csv('cleaned_B.csv', index=False)\n",
    "print(\"Cleaned dataset saved!\")"
   ]
  },
  {
   "cell_type": "markdown",
   "metadata": {},
   "source": [
    "## Regression Analysis: Building and Interpreting the Model"
   ]
  },
  {
   "cell_type": "code",
   "execution_count": null,
   "metadata": {},
   "outputs": [],
   "source": [
    "import pandas as pd\n",
    "import statsmodels.api as sm\n",
    "\n",
    "# Load dataset\n",
    "data = pd.read_csv('B.csv')\n",
    "\n",
    "# Define dependent and independent variables\n",
    "# Adjust column names as per your dataset\n",
    "X = data[['CPI', 'GDHI per Head', '95% LTV Rate', '90% LTV Rate']]\n",
    "y = data['HPI']\n",
    "\n",
    "# Add constant for intercept\n",
    "X = sm.add_constant(X)\n",
    "\n",
    "# Build regression model\n",
    "model = sm.OLS(y, X).fit()\n",
    "\n",
    "# Print model summary\n",
    "print(model.summary())\n"
   ]
  },
  {
   "cell_type": "markdown",
   "metadata": {},
   "source": [
    "## Prediction Using the Model"
   ]
  },
  {
   "cell_type": "code",
   "execution_count": null,
   "metadata": {},
   "outputs": [],
   "source": [
    "# Hypothetical new data for prediction\n",
    "future_data = pd.DataFrame({\n",
    "    'CPI': [2.5, 3.0, 3.5],\n",
    "    'GDHI per Head': [25000, 26000, 27000],\n",
    "    '95% LTV Rate': [4.5, 4.8, 5.0],\n",
    "    '90% LTV Rate': [3.8, 4.0, 4.2]\n",
    "})\n",
    "\n",
    "# Add constant to future data\n",
    "future_data = sm.add_constant(future_data)\n",
    "\n",
    "# Predict HPI\n",
    "predicted_hpi = model.predict(future_data)\n",
    "print(\"Predicted HPI for future scenarios:\")\n",
    "print(predicted_hpi)\n"
   ]
  },
  {
   "cell_type": "markdown",
   "metadata": {},
   "source": [
    "## Regression graphs and visualizations"
   ]
  },
  {
   "cell_type": "code",
   "execution_count": null,
   "metadata": {},
   "outputs": [],
   "source": [
    "# Scatter plot of Actual vs Predicted values\n",
    "plt.figure(figsize=(8, 6))\n",
    "plt.scatter(y, model.fittedvalues, alpha=0.7, label='Predicted HPI')\n",
    "plt.plot(y, y, color='red', linestyle='--', label='Perfect Fit')  # Reference line\n",
    "plt.title('Actual vs Predicted HPI')\n",
    "plt.xlabel('Actual HPI')\n",
    "plt.ylabel('Predicted HPI')\n",
    "plt.legend()\n",
    "plt.grid()\n",
    "plt.show()\n"
   ]
  },
  {
   "cell_type": "code",
   "execution_count": null,
   "metadata": {},
   "outputs": [],
   "source": [
    "# Extract coefficients\n",
    "coefficients = pd.DataFrame({\n",
    "    'Feature': X.columns,\n",
    "    'Coefficient': model.params\n",
    "})\n",
    "\n",
    "# Bar plot of coefficients\n",
    "plt.figure(figsize=(8, 6))\n",
    "sns.barplot(x='Coefficient', y='Feature', data=coefficients, palette='coolwarm')\n",
    "plt.title('Regression Coefficients')\n",
    "plt.xlabel('Coefficient Value')\n",
    "plt.ylabel('Feature')\n",
    "plt.grid()\n",
    "plt.show()\n"
   ]
  },
  {
   "cell_type": "code",
   "execution_count": null,
   "metadata": {},
   "outputs": [],
   "source": [
    "sns.regplot(x=data['CPI'], y=data['HPI'], ci=None, line_kws={'color': 'red'})\n",
    "plt.title('Regression Line: HPI vs CPI')\n",
    "plt.xlabel('CPI')\n",
    "plt.ylabel('HPI')\n",
    "plt.grid()\n",
    "plt.show()\n"
   ]
  },
  {
   "cell_type": "code",
   "execution_count": null,
   "metadata": {},
   "outputs": [],
   "source": [
    "import statsmodels.api as sm\n",
    "\n",
    "# QQ Plot\n",
    "sm.qqplot(residuals, line='45')\n",
    "plt.title('QQ Plot of Residuals')\n",
    "plt.grid()\n",
    "plt.show()\n"
   ]
  }
 ],
 "metadata": {
  "kernelspec": {
   "display_name": "Python 3",
   "language": "python",
   "name": "python3"
  },
  "language_info": {
   "codemirror_mode": {
    "name": "ipython",
    "version": 3
   },
   "file_extension": ".py",
   "mimetype": "text/x-python",
   "name": "python",
   "nbconvert_exporter": "python",
   "pygments_lexer": "ipython3",
   "version": "3.12.6"
  }
 },
 "nbformat": 4,
 "nbformat_minor": 2
}
